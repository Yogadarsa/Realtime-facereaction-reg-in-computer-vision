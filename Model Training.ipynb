{
 "cells": [
  {
   "cell_type": "code",
   "execution_count": 1,
   "id": "c4a514a4",
   "metadata": {},
   "outputs": [
    {
     "name": "stdout",
     "output_type": "stream",
     "text": [
      "WARNING:tensorflow:From C:\\Users\\vmyog\\AppData\\Local\\Programs\\Python\\Python311\\Lib\\site-packages\\keras\\src\\losses.py:2976: The name tf.losses.sparse_softmax_cross_entropy is deprecated. Please use tf.compat.v1.losses.sparse_softmax_cross_entropy instead.\n",
      "\n"
     ]
    }
   ],
   "source": [
    "from keras.preprocessing.image import ImageDataGenerator\n",
    "from keras.models import Sequential\n",
    "from keras.layers import Dense,Dropout,Flatten\n",
    "from keras.layers import Conv2D,MaxPooling2D\n",
    "import os"
   ]
  },
  {
   "cell_type": "code",
   "execution_count": 5,
   "id": "bd19ac36",
   "metadata": {},
   "outputs": [],
   "source": [
    "train_data_dir='train/'\n",
    "validation_data_dir='test/'"
   ]
  },
  {
   "cell_type": "code",
   "execution_count": 6,
   "id": "51d1b675",
   "metadata": {},
   "outputs": [],
   "source": [
    "train_datagen = ImageDataGenerator(\n",
    "\t\t\t\t\trescale=1./255,\n",
    "\t\t\t\t\trotation_range=30,\n",
    "\t\t\t\t\tshear_range=0.3,\n",
    "\t\t\t\t\tzoom_range=0.3,\n",
    "\t\t\t\t\thorizontal_flip=True,\n",
    "\t\t\t\t\tfill_mode='nearest')"
   ]
  },
  {
   "cell_type": "code",
   "execution_count": 7,
   "id": "98563bd9",
   "metadata": {},
   "outputs": [
    {
     "name": "stdout",
     "output_type": "stream",
     "text": [
      "Found 28709 images belonging to 7 classes.\n"
     ]
    }
   ],
   "source": [
    "validation_datagen = ImageDataGenerator(rescale=1./255)\n",
    "\n",
    "train_generator = train_datagen.flow_from_directory(\n",
    "\t\t\t\t\ttrain_data_dir,\n",
    "\t\t\t\t\tcolor_mode='grayscale',\n",
    "\t\t\t\t\ttarget_size=(48, 48),\n",
    "\t\t\t\t\tbatch_size=32,\n",
    "\t\t\t\t\tclass_mode='categorical',\n",
    "\t\t\t\t\tshuffle=True)"
   ]
  },
  {
   "cell_type": "code",
   "execution_count": 8,
   "id": "d7262498",
   "metadata": {},
   "outputs": [
    {
     "name": "stdout",
     "output_type": "stream",
     "text": [
      "Found 7178 images belonging to 7 classes.\n"
     ]
    }
   ],
   "source": [
    "validation_generator = validation_datagen.flow_from_directory(\n",
    "\t\t\t\t\t\t\tvalidation_data_dir,\n",
    "\t\t\t\t\t\t\tcolor_mode='grayscale',\n",
    "\t\t\t\t\t\t\ttarget_size=(48, 48),\n",
    "\t\t\t\t\t\t\tbatch_size=32,\n",
    "\t\t\t\t\t\t\tclass_mode='categorical',\n",
    "\t\t\t\t\t\t\tshuffle=True)\n"
   ]
  },
  {
   "cell_type": "code",
   "execution_count": 9,
   "id": "630a86c3",
   "metadata": {},
   "outputs": [],
   "source": [
    "class_labels=[\"surprise\",\"sad\",\"neutral\",\"happy\",\"fear\",\"disgust\",\"angry\"]"
   ]
  },
  {
   "cell_type": "code",
   "execution_count": 10,
   "id": "3a5d3a26",
   "metadata": {},
   "outputs": [
    {
     "name": "stdout",
     "output_type": "stream",
     "text": [
      "WARNING:tensorflow:From C:\\Users\\vmyog\\AppData\\Local\\Programs\\Python\\Python311\\Lib\\site-packages\\keras\\src\\backend.py:873: The name tf.get_default_graph is deprecated. Please use tf.compat.v1.get_default_graph instead.\n",
      "\n",
      "WARNING:tensorflow:From C:\\Users\\vmyog\\AppData\\Local\\Programs\\Python\\Python311\\Lib\\site-packages\\keras\\src\\layers\\pooling\\max_pooling2d.py:161: The name tf.nn.max_pool is deprecated. Please use tf.nn.max_pool2d instead.\n",
      "\n",
      "WARNING:tensorflow:From C:\\Users\\vmyog\\AppData\\Local\\Programs\\Python\\Python311\\Lib\\site-packages\\keras\\src\\optimizers\\__init__.py:309: The name tf.train.Optimizer is deprecated. Please use tf.compat.v1.train.Optimizer instead.\n",
      "\n",
      "Model: \"sequential\"\n",
      "_________________________________________________________________\n",
      " Layer (type)                Output Shape              Param #   \n",
      "=================================================================\n",
      " conv2d (Conv2D)             (None, 46, 46, 32)        320       \n",
      "                                                                 \n",
      " conv2d_1 (Conv2D)           (None, 44, 44, 64)        18496     \n",
      "                                                                 \n",
      " max_pooling2d (MaxPooling2  (None, 22, 22, 64)        0         \n",
      " D)                                                              \n",
      "                                                                 \n",
      " dropout (Dropout)           (None, 22, 22, 64)        0         \n",
      "                                                                 \n",
      " conv2d_2 (Conv2D)           (None, 20, 20, 128)       73856     \n",
      "                                                                 \n",
      " max_pooling2d_1 (MaxPoolin  (None, 10, 10, 128)       0         \n",
      " g2D)                                                            \n",
      "                                                                 \n",
      " dropout_1 (Dropout)         (None, 10, 10, 128)       0         \n",
      "                                                                 \n",
      " conv2d_3 (Conv2D)           (None, 8, 8, 256)         295168    \n",
      "                                                                 \n",
      " max_pooling2d_2 (MaxPoolin  (None, 4, 4, 256)         0         \n",
      " g2D)                                                            \n",
      "                                                                 \n",
      " dropout_2 (Dropout)         (None, 4, 4, 256)         0         \n",
      "                                                                 \n",
      " flatten (Flatten)           (None, 4096)              0         \n",
      "                                                                 \n",
      " dense (Dense)               (None, 512)               2097664   \n",
      "                                                                 \n",
      " dropout_3 (Dropout)         (None, 512)               0         \n",
      "                                                                 \n",
      " dense_1 (Dense)             (None, 7)                 3591      \n",
      "                                                                 \n",
      "=================================================================\n",
      "Total params: 2489095 (9.50 MB)\n",
      "Trainable params: 2489095 (9.50 MB)\n",
      "Non-trainable params: 0 (0.00 Byte)\n",
      "_________________________________________________________________\n",
      "None\n"
     ]
    }
   ],
   "source": [
    "img, label = train_generator.__next__()\n",
    "\n",
    "\n",
    "model = Sequential()\n",
    "\n",
    "model.add(Conv2D(32, kernel_size=(3, 3), activation='relu', input_shape=(48,48,1)))\n",
    "\n",
    "model.add(Conv2D(64, kernel_size=(3, 3), activation='relu'))\n",
    "model.add(MaxPooling2D(pool_size=(2, 2)))\n",
    "model.add(Dropout(0.1))\n",
    "\n",
    "model.add(Conv2D(128, kernel_size=(3, 3), activation='relu'))\n",
    "model.add(MaxPooling2D(pool_size=(2, 2)))\n",
    "model.add(Dropout(0.1))\n",
    "\n",
    "model.add(Conv2D(256, kernel_size=(3, 3), activation='relu'))\n",
    "model.add(MaxPooling2D(pool_size=(2, 2)))\n",
    "model.add(Dropout(0.1))\n",
    "\n",
    "model.add(Flatten())\n",
    "model.add(Dense(512, activation='relu'))\n",
    "model.add(Dropout(0.2))\n",
    "\n",
    "model.add(Dense(7, activation='softmax'))\n",
    "\n",
    "model.compile(optimizer = 'adam', loss='categorical_crossentropy', metrics=['accuracy'])\n",
    "print(model.summary())"
   ]
  },
  {
   "cell_type": "code",
   "execution_count": 11,
   "id": "49765ea8",
   "metadata": {},
   "outputs": [
    {
     "name": "stdout",
     "output_type": "stream",
     "text": [
      "28709\n",
      "7178\n",
      "Epoch 1/30\n",
      "WARNING:tensorflow:From C:\\Users\\vmyog\\AppData\\Local\\Programs\\Python\\Python311\\Lib\\site-packages\\keras\\src\\utils\\tf_utils.py:492: The name tf.ragged.RaggedTensorValue is deprecated. Please use tf.compat.v1.ragged.RaggedTensorValue instead.\n",
      "\n",
      "WARNING:tensorflow:From C:\\Users\\vmyog\\AppData\\Local\\Programs\\Python\\Python311\\Lib\\site-packages\\keras\\src\\engine\\base_layer_utils.py:384: The name tf.executing_eagerly_outside_functions is deprecated. Please use tf.compat.v1.executing_eagerly_outside_functions instead.\n",
      "\n",
      "897/897 [==============================] - 818s 909ms/step - loss: 1.7672 - accuracy: 0.2708 - val_loss: 1.6888 - val_accuracy: 0.3221\n",
      "Epoch 2/30\n",
      "897/897 [==============================] - 457s 509ms/step - loss: 1.6503 - accuracy: 0.3438 - val_loss: 1.4781 - val_accuracy: 0.4294\n",
      "Epoch 3/30\n",
      "897/897 [==============================] - 280s 312ms/step - loss: 1.5321 - accuracy: 0.4046 - val_loss: 1.3723 - val_accuracy: 0.4640\n",
      "Epoch 4/30\n",
      "897/897 [==============================] - 271s 302ms/step - loss: 1.4484 - accuracy: 0.4390 - val_loss: 1.3177 - val_accuracy: 0.4947\n",
      "Epoch 5/30\n",
      "897/897 [==============================] - 283s 316ms/step - loss: 1.3931 - accuracy: 0.4652 - val_loss: 1.2493 - val_accuracy: 0.5266\n",
      "Epoch 6/30\n",
      "897/897 [==============================] - 290s 323ms/step - loss: 1.3509 - accuracy: 0.4822 - val_loss: 1.2275 - val_accuracy: 0.5389\n",
      "Epoch 7/30\n",
      "897/897 [==============================] - 280s 312ms/step - loss: 1.3228 - accuracy: 0.4953 - val_loss: 1.2176 - val_accuracy: 0.5280\n",
      "Epoch 8/30\n",
      "897/897 [==============================] - 294s 328ms/step - loss: 1.2983 - accuracy: 0.5042 - val_loss: 1.1981 - val_accuracy: 0.5396\n",
      "Epoch 9/30\n",
      "897/897 [==============================] - 275s 306ms/step - loss: 1.2810 - accuracy: 0.5099 - val_loss: 1.1748 - val_accuracy: 0.5459\n",
      "Epoch 10/30\n",
      "897/897 [==============================] - 273s 304ms/step - loss: 1.2650 - accuracy: 0.5171 - val_loss: 1.1502 - val_accuracy: 0.5592\n",
      "Epoch 11/30\n",
      "897/897 [==============================] - 243s 270ms/step - loss: 1.2470 - accuracy: 0.5231 - val_loss: 1.1380 - val_accuracy: 0.5650\n",
      "Epoch 12/30\n",
      "897/897 [==============================] - 244s 272ms/step - loss: 1.2364 - accuracy: 0.5299 - val_loss: 1.1225 - val_accuracy: 0.5731\n",
      "Epoch 13/30\n",
      "897/897 [==============================] - 261s 291ms/step - loss: 1.2290 - accuracy: 0.5341 - val_loss: 1.1438 - val_accuracy: 0.5670\n",
      "Epoch 14/30\n",
      "897/897 [==============================] - 211s 235ms/step - loss: 1.2197 - accuracy: 0.5362 - val_loss: 1.1141 - val_accuracy: 0.5755\n",
      "Epoch 15/30\n",
      "897/897 [==============================] - 211s 235ms/step - loss: 1.2129 - accuracy: 0.5411 - val_loss: 1.1368 - val_accuracy: 0.5720\n",
      "Epoch 16/30\n",
      "897/897 [==============================] - 209s 233ms/step - loss: 1.1997 - accuracy: 0.5440 - val_loss: 1.1259 - val_accuracy: 0.5753\n",
      "Epoch 17/30\n",
      "897/897 [==============================] - 208s 232ms/step - loss: 1.1946 - accuracy: 0.5461 - val_loss: 1.1215 - val_accuracy: 0.5762\n",
      "Epoch 18/30\n",
      "897/897 [==============================] - 208s 232ms/step - loss: 1.1843 - accuracy: 0.5500 - val_loss: 1.1148 - val_accuracy: 0.5781\n",
      "Epoch 19/30\n",
      "897/897 [==============================] - 341s 380ms/step - loss: 1.1862 - accuracy: 0.5486 - val_loss: 1.1149 - val_accuracy: 0.5767\n",
      "Epoch 20/30\n",
      "897/897 [==============================] - 274s 305ms/step - loss: 1.1724 - accuracy: 0.5542 - val_loss: 1.0936 - val_accuracy: 0.5851\n",
      "Epoch 21/30\n",
      "897/897 [==============================] - 211s 236ms/step - loss: 1.1717 - accuracy: 0.5556 - val_loss: 1.0892 - val_accuracy: 0.5939\n",
      "Epoch 22/30\n",
      "897/897 [==============================] - 212s 236ms/step - loss: 1.1704 - accuracy: 0.5563 - val_loss: 1.0900 - val_accuracy: 0.5884\n",
      "Epoch 23/30\n",
      "897/897 [==============================] - 210s 234ms/step - loss: 1.1616 - accuracy: 0.5575 - val_loss: 1.0949 - val_accuracy: 0.5841\n",
      "Epoch 24/30\n",
      "897/897 [==============================] - 247s 275ms/step - loss: 1.1531 - accuracy: 0.5616 - val_loss: 1.0813 - val_accuracy: 0.5883\n",
      "Epoch 25/30\n",
      "897/897 [==============================] - 247s 275ms/step - loss: 1.1527 - accuracy: 0.5638 - val_loss: 1.0760 - val_accuracy: 0.5972\n",
      "Epoch 26/30\n",
      "897/897 [==============================] - 211s 235ms/step - loss: 1.1475 - accuracy: 0.5658 - val_loss: 1.0826 - val_accuracy: 0.5901\n",
      "Epoch 27/30\n",
      "897/897 [==============================] - 210s 234ms/step - loss: 1.1441 - accuracy: 0.5676 - val_loss: 1.0865 - val_accuracy: 0.5974\n",
      "Epoch 28/30\n",
      "897/897 [==============================] - 209s 233ms/step - loss: 1.1432 - accuracy: 0.5664 - val_loss: 1.0874 - val_accuracy: 0.5903\n",
      "Epoch 29/30\n",
      "897/897 [==============================] - 210s 234ms/step - loss: 1.1328 - accuracy: 0.5705 - val_loss: 1.0756 - val_accuracy: 0.5946\n",
      "Epoch 30/30\n",
      "897/897 [==============================] - 208s 232ms/step - loss: 1.1326 - accuracy: 0.5729 - val_loss: 1.0668 - val_accuracy: 0.6038\n"
     ]
    },
    {
     "name": "stderr",
     "output_type": "stream",
     "text": [
      "C:\\Users\\vmyog\\AppData\\Local\\Programs\\Python\\Python311\\Lib\\site-packages\\keras\\src\\engine\\training.py:3103: UserWarning: You are saving your model as an HDF5 file via `model.save()`. This file format is considered legacy. We recommend using instead the native Keras format, e.g. `model.save('my_model.keras')`.\n",
      "  saving_api.save_model(\n"
     ]
    }
   ],
   "source": [
    "train_path = \"train/\"\n",
    "test_path = \"test\"\n",
    "\n",
    "num_train_imgs = 0\n",
    "for root, dirs, files in os.walk(train_path):\n",
    "    num_train_imgs += len(files)\n",
    "    \n",
    "num_test_imgs = 0\n",
    "for root, dirs, files in os.walk(test_path):\n",
    "    num_test_imgs += len(files)\n",
    "\n",
    "print(num_train_imgs)\n",
    "print(num_test_imgs)\n",
    "epochs=30\n",
    "\n",
    "history=model.fit(train_generator,\n",
    "                steps_per_epoch=num_train_imgs//32,\n",
    "                epochs=epochs,\n",
    "                validation_data=validation_generator,\n",
    "                validation_steps=num_test_imgs//32)\n",
    "\n",
    "model.save('model_file.h5')\n"
   ]
  },
  {
   "cell_type": "code",
   "execution_count": null,
   "id": "2f09fa09",
   "metadata": {},
   "outputs": [],
   "source": []
  }
 ],
 "metadata": {
  "kernelspec": {
   "display_name": "Python 3 (ipykernel)",
   "language": "python",
   "name": "python3"
  },
  "language_info": {
   "codemirror_mode": {
    "name": "ipython",
    "version": 3
   },
   "file_extension": ".py",
   "mimetype": "text/x-python",
   "name": "python",
   "nbconvert_exporter": "python",
   "pygments_lexer": "ipython3",
   "version": "3.11.0"
  }
 },
 "nbformat": 4,
 "nbformat_minor": 5
}
