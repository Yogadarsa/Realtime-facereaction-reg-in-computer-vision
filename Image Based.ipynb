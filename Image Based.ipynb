{
 "cells": [
  {
   "cell_type": "code",
   "execution_count": null,
   "id": "ac7b00bf",
   "metadata": {},
   "outputs": [],
   "source": [
    "import cv2\n",
    "import numpy as np\n",
    "from keras.models import load_model\n"
   ]
  },
  {
   "cell_type": "code",
   "execution_count": null,
   "id": "bc2a625d",
   "metadata": {},
   "outputs": [],
   "source": [
    "model=load_model('model_file.h5')\n",
    "\n",
    "faceDetect=cv2.CascadeClassifier('haarcascade_frontalface_default.xml')\n",
    "\n",
    "labels_dict={0:'Angry',1:'Disgust', 2:'Fear', 3:'Happy',4:'Neutral',5:'Sad',6:'Surprise'}\n",
    "\n",
    "# len(number_of_image), image_height, image_width, channel\n",
    "\n"
   ]
  },
  {
   "cell_type": "code",
   "execution_count": null,
   "id": "d02f1c6d",
   "metadata": {},
   "outputs": [],
   "source": [
    "frame=cv2.imread(\"Untitled.jpg\")\n",
    "gray=cv2.cvtColor(frame, cv2.COLOR_BGR2GRAY)\n",
    "faces= faceDetect.detectMultiScale(gray, 1.3, 3)\n"
   ]
  },
  {
   "cell_type": "code",
   "execution_count": null,
   "id": "5999551e",
   "metadata": {},
   "outputs": [],
   "source": [
    "for x,y,w,h in faces:\n",
    "    sub_face_img=gray[y:y+h, x:x+w]\n",
    "    resized=cv2.resize(sub_face_img,(48,48))\n",
    "    normalize=resized/255.0\n",
    "    reshaped=np.reshape(normalize, (1, 48, 48, 1))\n",
    "    result=model.predict(reshaped)\n",
    "    label=np.argmax(result, axis=1)[0]\n",
    "    print(label)\n",
    "    cv2.rectangle(frame, (x,y), (x+w, y+h), (0,0,255), 1)\n",
    "    cv2.rectangle(frame,(x,y),(x+w,y+h),(50,50,255),2)\n",
    "    cv2.rectangle(frame,(x,y-40),(x+w,y),(50,50,255),-1)\n",
    "    cv2.putText(frame, labels_dict[label], (x, y-10),cv2.FONT_HERSHEY_SIMPLEX,0.8,(255,255,255),2)\n",
    "        \n"
   ]
  },
  {
   "cell_type": "code",
   "execution_count": null,
   "id": "4c032285",
   "metadata": {},
   "outputs": [],
   "source": [
    "cv2.imshow(\"Frame\",frame)\n",
    "cv2.waitKey(0)\n",
    "cv2.destroyAllWindows()"
   ]
  },
  {
   "cell_type": "code",
   "execution_count": null,
   "id": "87260e6f",
   "metadata": {},
   "outputs": [],
   "source": []
  }
 ],
 "metadata": {
  "kernelspec": {
   "display_name": "Python 3 (ipykernel)",
   "language": "python",
   "name": "python3"
  },
  "language_info": {
   "codemirror_mode": {
    "name": "ipython",
    "version": 3
   },
   "file_extension": ".py",
   "mimetype": "text/x-python",
   "name": "python",
   "nbconvert_exporter": "python",
   "pygments_lexer": "ipython3",
   "version": "3.11.0"
  }
 },
 "nbformat": 4,
 "nbformat_minor": 5
}
